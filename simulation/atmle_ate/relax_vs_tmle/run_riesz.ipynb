{
 "cells": [
  {
   "cell_type": "code",
   "execution_count": 8,
   "metadata": {},
   "outputs": [],
   "source": [
    "import sys\n",
    "sys.path.append('..')\n",
    "from utils.forestriesz import ForestRieszATE\n",
    "import numpy as np\n",
    "import pandas as pd\n",
    "from sklearn.preprocessing import StandardScaler"
   ]
  },
  {
   "cell_type": "code",
   "execution_count": 3,
   "metadata": {},
   "outputs": [],
   "source": [
    "# simulate data\n",
    "def sim_data(n, gamma=0.5, counter_A=None):\n",
    "    # error\n",
    "    UY = np.random.normal(loc=0, scale=np.sqrt(0.5), size=n)\n",
    "\n",
    "    # baseline covariates\n",
    "    W1 = np.round(np.random.uniform(-1, 1, size=n), 2)\n",
    "    W2 = np.round(np.random.uniform(-1, 1, size=n), 2)\n",
    "    W3 = np.round(np.random.uniform(-1, 1, size=n), 2)\n",
    "    W4 = np.round(np.random.uniform(-1, 1, size=n), 2)\n",
    "\n",
    "    # treatment\n",
    "    if counter_A is None:\n",
    "        logits = gamma * (W1 + W2 + W3 + W4 +\n",
    "                          np.sin(4 * W1) + np.sin(4 * W2) +\n",
    "                          np.sin(4 * W3) + np.sin(4 * W4))\n",
    "        A = np.random.binomial(n=1, p=1 / (1 + np.exp(-logits)))\n",
    "    else:\n",
    "        A = np.full(n, counter_A)\n",
    "\n",
    "    # outcome\n",
    "    Y = (np.cos(4 * W2) + np.sin(4 * W1) + np.sin(4 * W2) +\n",
    "         np.sin(4 * W3) + np.sin(4 * W4) +\n",
    "         A * (1 + W1 + np.abs(W2) + np.cos(4 * W3) + W4) + UY)\n",
    "\n",
    "    data = pd.DataFrame({\n",
    "        'W1': W1,\n",
    "        'W2': W2,\n",
    "        'W3': W3,\n",
    "        'W4': W4,\n",
    "        'A': A,\n",
    "        'Y': Y\n",
    "    })\n",
    "\n",
    "    return data\n",
    "\n",
    "def get_truth():\n",
    "    data_A1 = sim_data(int(1e7), counter_A=1)\n",
    "    data_A0 = sim_data(int(1e7), counter_A=0)\n",
    "    return np.mean(data_A1['Y'] - data_A0['Y'])"
   ]
  },
  {
   "cell_type": "code",
   "execution_count": null,
   "metadata": {},
   "outputs": [],
   "source": [
    "n = 1000\n",
    "n_sim = 10\n",
    "results = []\n",
    "for i in range(n_sim):\n",
    "    data = sim_data(n)\n",
    "    model = ForestRiesz(data, 'Y', 'A', ['W1', 'W2', 'W3', 'W4'])\n",
    "    model.fit()\n",
    "    results.append(model.estimate())"
   ]
  },
  {
   "cell_type": "code",
   "execution_count": null,
   "metadata": {},
   "outputs": [
    {
     "name": "stdout",
     "output_type": "stream",
     "text": [
      "Simulation 1/10\n",
      "Simulation 2/10\n",
      "Simulation 3/10\n",
      "Simulation 4/10\n",
      "Simulation 5/10\n",
      "Simulation 6/10\n",
      "Simulation 7/10\n",
      "Simulation 8/10\n",
      "Simulation 9/10\n",
      "Simulation 10/10\n"
     ]
    }
   ],
   "source": [
    "res_df = []\n",
    "n_sim = 10\n",
    "for i in range(n_sim):\n",
    "    print(f\"Simulation {i+1}/{n_sim}\")\n",
    "    n = 5000\n",
    "    data = sim_data(n)\n",
    "    # Extract features and create X\n",
    "    X = data[['A', 'W1', 'W2', 'W3', 'W4']].values \n",
    "    y = data['Y'].values.reshape(-1, 1)\n",
    "    y_scaler = StandardScaler(with_mean=True).fit(y)\n",
    "    y = y_scaler.transform(y)\n",
    "    est = ForestRieszATE(criterion='mse', n_estimators=1000, min_samples_leaf=2,\n",
    "                        min_var_fraction_leaf=0.001, min_var_leaf_on_val=True,\n",
    "                        min_impurity_decrease = 0.01, max_samples=.8, max_depth=None,\n",
    "                        warm_start=False, inference=False, subforest_size=1,\n",
    "                        honest=True, verbose=0, n_jobs=-1, random_state=123)\n",
    "    est.fit(X[:, 1:], X[:, [0]], y.reshape(-1, 1))\n",
    "    res = est.predict_ate(X, y, method='tmle')\n",
    "    psi = res[0]\n",
    "    lower = res[1]\n",
    "    upper = res[2]\n",
    "    res_df.append([psi, lower, upper])"
   ]
  },
  {
   "cell_type": "code",
   "execution_count": 24,
   "metadata": {},
   "outputs": [],
   "source": [
    "res_df = pd.DataFrame(res_df, columns=['psi', 'lower', 'upper'])"
   ]
  },
  {
   "cell_type": "code",
   "execution_count": 21,
   "metadata": {},
   "outputs": [
    {
     "data": {
      "text/html": [
       "<div>\n",
       "<style scoped>\n",
       "    .dataframe tbody tr th:only-of-type {\n",
       "        vertical-align: middle;\n",
       "    }\n",
       "\n",
       "    .dataframe tbody tr th {\n",
       "        vertical-align: top;\n",
       "    }\n",
       "\n",
       "    .dataframe thead th {\n",
       "        text-align: right;\n",
       "    }\n",
       "</style>\n",
       "<table border=\"1\" class=\"dataframe\">\n",
       "  <thead>\n",
       "    <tr style=\"text-align: right;\">\n",
       "      <th></th>\n",
       "      <th>psi</th>\n",
       "      <th>lower</th>\n",
       "      <th>upper</th>\n",
       "    </tr>\n",
       "  </thead>\n",
       "  <tbody>\n",
       "    <tr>\n",
       "      <th>0</th>\n",
       "      <td>0.706414</td>\n",
       "      <td>0.634096</td>\n",
       "      <td>0.778732</td>\n",
       "    </tr>\n",
       "    <tr>\n",
       "      <th>1</th>\n",
       "      <td>0.706769</td>\n",
       "      <td>0.631444</td>\n",
       "      <td>0.782095</td>\n",
       "    </tr>\n",
       "    <tr>\n",
       "      <th>2</th>\n",
       "      <td>0.694129</td>\n",
       "      <td>0.624551</td>\n",
       "      <td>0.763708</td>\n",
       "    </tr>\n",
       "    <tr>\n",
       "      <th>3</th>\n",
       "      <td>0.740220</td>\n",
       "      <td>0.668925</td>\n",
       "      <td>0.811515</td>\n",
       "    </tr>\n",
       "    <tr>\n",
       "      <th>4</th>\n",
       "      <td>0.602782</td>\n",
       "      <td>0.529993</td>\n",
       "      <td>0.675571</td>\n",
       "    </tr>\n",
       "    <tr>\n",
       "      <th>5</th>\n",
       "      <td>0.737105</td>\n",
       "      <td>0.667621</td>\n",
       "      <td>0.806588</td>\n",
       "    </tr>\n",
       "    <tr>\n",
       "      <th>6</th>\n",
       "      <td>0.729330</td>\n",
       "      <td>0.657585</td>\n",
       "      <td>0.801075</td>\n",
       "    </tr>\n",
       "    <tr>\n",
       "      <th>7</th>\n",
       "      <td>0.640524</td>\n",
       "      <td>0.572603</td>\n",
       "      <td>0.708444</td>\n",
       "    </tr>\n",
       "    <tr>\n",
       "      <th>8</th>\n",
       "      <td>0.659168</td>\n",
       "      <td>0.587916</td>\n",
       "      <td>0.730419</td>\n",
       "    </tr>\n",
       "    <tr>\n",
       "      <th>9</th>\n",
       "      <td>0.681180</td>\n",
       "      <td>0.608795</td>\n",
       "      <td>0.753566</td>\n",
       "    </tr>\n",
       "  </tbody>\n",
       "</table>\n",
       "</div>"
      ],
      "text/plain": [
       "        psi     lower     upper\n",
       "0  0.706414  0.634096  0.778732\n",
       "1  0.706769  0.631444  0.782095\n",
       "2  0.694129  0.624551  0.763708\n",
       "3  0.740220  0.668925  0.811515\n",
       "4  0.602782  0.529993  0.675571\n",
       "5  0.737105  0.667621  0.806588\n",
       "6  0.729330  0.657585  0.801075\n",
       "7  0.640524  0.572603  0.708444\n",
       "8  0.659168  0.587916  0.730419\n",
       "9  0.681180  0.608795  0.753566"
      ]
     },
     "execution_count": 21,
     "metadata": {},
     "output_type": "execute_result"
    }
   ],
   "source": [
    "res_df"
   ]
  },
  {
   "cell_type": "code",
   "execution_count": 22,
   "metadata": {},
   "outputs": [
    {
     "data": {
      "text/plain": [
       "1.3112417193876098"
      ]
     },
     "execution_count": 22,
     "metadata": {},
     "output_type": "execute_result"
    }
   ],
   "source": [
    "get_truth()"
   ]
  },
  {
   "cell_type": "code",
   "execution_count": null,
   "metadata": {},
   "outputs": [],
   "source": [
    "    \n",
    "# save results to a CSV file\n",
    "pd.DataFrame(results).to_csv('results.csv', index=False)"
   ]
  }
 ],
 "metadata": {
  "kernelspec": {
   "display_name": "Python 3",
   "language": "python",
   "name": "python3"
  },
  "language_info": {
   "codemirror_mode": {
    "name": "ipython",
    "version": 3
   },
   "file_extension": ".py",
   "mimetype": "text/x-python",
   "name": "python",
   "nbconvert_exporter": "python",
   "pygments_lexer": "ipython3",
   "version": "3.9.9"
  }
 },
 "nbformat": 4,
 "nbformat_minor": 2
}
